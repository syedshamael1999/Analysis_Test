{
    "metadata": {
        "kernelspec": {
            "name": "SQL",
            "display_name": "SQL",
            "language": "sql"
        },
        "language_info": {
            "name": "sql",
            "version": ""
        }
    },
    "nbformat_minor": 2,
    "nbformat": 4,
    "cells": [
        {
            "cell_type": "code",
            "source": [
                "/* Market Status and Share\r\n",
                "This is market data, not just TCL — includes competitors.\r\n",
                "\r\n",
                "Data: JAN 23 and JAN 24 */"
            ],
            "metadata": {
                "azdata_cell_guid": "300b5689-6552-4aec-a1ad-3b32f8fc2f36",
                "language": "sql"
            },
            "outputs": [],
            "execution_count": null
        },
        {
            "cell_type": "code",
            "source": [
                "-- 1. TCL Group’s Market Share (Jan 24)\r\n",
                "SELECT\r\n",
                "  PERIOD,\r\n",
                "  SUM(SALES_UNITS) AS TCL_Units,\r\n",
                "  SUM(SALES_VALUE_SAR) AS TCL_Revenue,\r\n",
                "  ROUND(SUM(SALES_VALUE_SAR) * 100.0 / \r\n",
                "        (SELECT SUM(SALES_VALUE_SAR) FROM KSATVTEST WHERE PERIOD = KS.PERIOD), 2) AS TCL_Market_Share_Percent\r\n",
                "FROM KSATVTEST KS\r\n",
                "WHERE BRAND IN ('TCL', 'TCL PRO') AND PERIOD IN ('JAN 23', 'JAN 24')\r\n",
                "GROUP BY PERIOD\r\n",
                "ORDER BY PERIOD;"
            ],
            "metadata": {
                "language": "sql",
                "azdata_cell_guid": "a102ccd7-cf26-4aba-93c9-3a4bf97c9935"
            },
            "outputs": [
                {
                    "output_type": "display_data",
                    "data": {
                        "text/html": "Warning: Null value is eliminated by an aggregate or other SET operation."
                    },
                    "metadata": {}
                },
                {
                    "output_type": "display_data",
                    "data": {
                        "text/html": "(2 rows affected)"
                    },
                    "metadata": {}
                },
                {
                    "output_type": "display_data",
                    "data": {
                        "text/html": "Total execution time: 00:00:00.019"
                    },
                    "metadata": {}
                },
                {
                    "output_type": "execute_result",
                    "metadata": {},
                    "execution_count": 1,
                    "data": {
                        "application/vnd.dataresource+json": {
                            "schema": {
                                "fields": [
                                    {
                                        "name": "PERIOD"
                                    },
                                    {
                                        "name": "TCL_Units"
                                    },
                                    {
                                        "name": "TCL_Revenue"
                                    },
                                    {
                                        "name": "TCL_Market_Share_Percent"
                                    }
                                ]
                            },
                            "data": [
                                {
                                    "PERIOD": "JAN 23",
                                    "TCL_Units": "11146.967344462872",
                                    "TCL_Revenue": "21027996",
                                    "TCL_Market_Share_Percent": "11.550000000000"
                                },
                                {
                                    "PERIOD": "JAN 24",
                                    "TCL_Units": "11063.724117815495",
                                    "TCL_Revenue": "23915678",
                                    "TCL_Market_Share_Percent": "13.850000000000"
                                }
                            ]
                        },
                        "text/html": [
                            "<table>",
                            "<tr><th>PERIOD</th><th>TCL_Units</th><th>TCL_Revenue</th><th>TCL_Market_Share_Percent</th></tr>",
                            "<tr><td>JAN 23</td><td>11146.967344462872</td><td>21027996</td><td>11.550000000000</td></tr>",
                            "<tr><td>JAN 24</td><td>11063.724117815495</td><td>23915678</td><td>13.850000000000</td></tr>",
                            "</table>"
                        ]
                    }
                }
            ],
            "execution_count": 1
        },
        {
            "cell_type": "code",
            "source": [
                "-- 2. Competitor Comparison (Jan 24)\r\n",
                "SELECT\r\n",
                "  TOP 5\r\n",
                "  CASE \r\n",
                "    WHEN BRAND IN ('TCL', 'TCL PRO') THEN 'TCL Group' \r\n",
                "    ELSE BRAND \r\n",
                "  END AS Brand_Group,\r\n",
                "  SUM(SALES_UNITS) AS Units_Sold,\r\n",
                "  SUM(SALES_VALUE_SAR) AS Revenue\r\n",
                "FROM KSATVTEST\r\n",
                "WHERE PERIOD = 'JAN 24'\r\n",
                "GROUP BY\r\n",
                "  CASE \r\n",
                "    WHEN BRAND IN ('TCL', 'TCL PRO') THEN 'TCL Group' \r\n",
                "    ELSE BRAND \r\n",
                "  END\r\n",
                "ORDER BY Revenue DESC;\r\n",
                "\r\n",
                ""
            ],
            "metadata": {
                "language": "sql",
                "azdata_cell_guid": "59bc156b-b40f-4ec4-acbb-3d4e94a885cd"
            },
            "outputs": [
                {
                    "output_type": "display_data",
                    "data": {
                        "text/html": "Warning: Null value is eliminated by an aggregate or other SET operation."
                    },
                    "metadata": {}
                },
                {
                    "output_type": "display_data",
                    "data": {
                        "text/html": "(5 rows affected)"
                    },
                    "metadata": {}
                },
                {
                    "output_type": "display_data",
                    "data": {
                        "text/html": "Total execution time: 00:00:00.037"
                    },
                    "metadata": {}
                },
                {
                    "output_type": "execute_result",
                    "metadata": {},
                    "execution_count": 2,
                    "data": {
                        "application/vnd.dataresource+json": {
                            "schema": {
                                "fields": [
                                    {
                                        "name": "Brand_Group"
                                    },
                                    {
                                        "name": "Units_Sold"
                                    },
                                    {
                                        "name": "Revenue"
                                    }
                                ]
                            },
                            "data": [
                                {
                                    "Brand_Group": "SAMSUNG",
                                    "Units_Sold": "13483.476915299892",
                                    "Revenue": "37414202"
                                },
                                {
                                    "Brand_Group": "LG",
                                    "Units_Sold": "7685.642285168171",
                                    "Revenue": "26818798"
                                },
                                {
                                    "Brand_Group": "TCL Group",
                                    "Units_Sold": "11063.724117815495",
                                    "Revenue": "23915678"
                                },
                                {
                                    "Brand_Group": "SKYWORTH",
                                    "Units_Sold": "6498.1592807769775",
                                    "Revenue": "10537065"
                                },
                                {
                                    "Brand_Group": "SONY",
                                    "Units_Sold": "2451.193955898285",
                                    "Revenue": "10171154"
                                }
                            ]
                        },
                        "text/html": [
                            "<table>",
                            "<tr><th>Brand_Group</th><th>Units_Sold</th><th>Revenue</th></tr>",
                            "<tr><td>SAMSUNG</td><td>13483.476915299892</td><td>37414202</td></tr>",
                            "<tr><td>LG</td><td>7685.642285168171</td><td>26818798</td></tr>",
                            "<tr><td>TCL Group</td><td>11063.724117815495</td><td>23915678</td></tr>",
                            "<tr><td>SKYWORTH</td><td>6498.1592807769775</td><td>10537065</td></tr>",
                            "<tr><td>SONY</td><td>2451.193955898285</td><td>10171154</td></tr>",
                            "</table>"
                        ]
                    }
                }
            ],
            "execution_count": 2
        }
    ]
}