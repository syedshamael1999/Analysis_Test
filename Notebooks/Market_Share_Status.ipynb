{
    "metadata": {
        "kernelspec": {
            "name": "SQL",
            "display_name": "SQL",
            "language": "sql"
        },
        "language_info": {
            "name": "sql",
            "version": ""
        }
    },
    "nbformat_minor": 2,
    "nbformat": 4,
    "cells": [
        {
            "cell_type": "code",
            "source": [
                "/* (II) Market Share and Status */\r\n",
                "\r\n",
                "-- 1. TCL Group’s Market Share (Jan 24)\r\n",
                "SELECT\r\n",
                "  PERIOD,\r\n",
                "  SUM(SALES_UNITS) AS TCL_Units,\r\n",
                "  SUM(SALES_VALUE_SAR) AS TCL_Revenue,\r\n",
                "  ROUND(SUM(SALES_VALUE_SAR) * 100.0 / \r\n",
                "        (SELECT SUM(SALES_VALUE_SAR) FROM KSATVTEST WHERE PERIOD = KS.PERIOD), 2) AS TCL_Market_Share_Percent\r\n",
                "FROM KSATVTEST KS\r\n",
                "WHERE BRAND IN ('TCL', 'TCL PRO') AND PERIOD IN ('JAN 23', 'JAN 24')\r\n",
                "GROUP BY PERIOD\r\n",
                "ORDER BY PERIOD;\r\n",
                ""
            ],
            "metadata": {
                "azdata_cell_guid": "5105794f-6c0e-4725-a816-767ae109aac5",
                "language": "sql"
            },
            "outputs": [
                {
                    "output_type": "display_data",
                    "data": {
                        "text/html": "Warning: Null value is eliminated by an aggregate or other SET operation."
                    },
                    "metadata": {}
                },
                {
                    "output_type": "display_data",
                    "data": {
                        "text/html": "(2 rows affected)"
                    },
                    "metadata": {}
                },
                {
                    "output_type": "display_data",
                    "data": {
                        "text/html": "Total execution time: 00:00:00.035"
                    },
                    "metadata": {}
                },
                {
                    "output_type": "execute_result",
                    "metadata": {},
                    "execution_count": 1,
                    "data": {
                        "application/vnd.dataresource+json": {
                            "schema": {
                                "fields": [
                                    {
                                        "name": "PERIOD"
                                    },
                                    {
                                        "name": "TCL_Units"
                                    },
                                    {
                                        "name": "TCL_Revenue"
                                    },
                                    {
                                        "name": "TCL_Market_Share_Percent"
                                    }
                                ]
                            },
                            "data": [
                                {
                                    "PERIOD": "JAN 23",
                                    "TCL_Units": "11146.967344462872",
                                    "TCL_Revenue": "21027996",
                                    "TCL_Market_Share_Percent": "11.550000000000"
                                },
                                {
                                    "PERIOD": "JAN 24",
                                    "TCL_Units": "11063.724117815495",
                                    "TCL_Revenue": "23915678",
                                    "TCL_Market_Share_Percent": "13.850000000000"
                                }
                            ]
                        },
                        "text/html": [
                            "<table>",
                            "<tr><th>PERIOD</th><th>TCL_Units</th><th>TCL_Revenue</th><th>TCL_Market_Share_Percent</th></tr>",
                            "<tr><td>JAN 23</td><td>11146.967344462872</td><td>21027996</td><td>11.550000000000</td></tr>",
                            "<tr><td>JAN 24</td><td>11063.724117815495</td><td>23915678</td><td>13.850000000000</td></tr>",
                            "</table>"
                        ]
                    }
                }
            ],
            "execution_count": 1
        },
        {
            "cell_type": "code",
            "source": [
                "-- 2. Competitor Comparison (Jan 24)\r\n",
                "SELECT\r\n",
                "  TOP 5\r\n",
                "  CASE \r\n",
                "    WHEN BRAND IN ('TCL', 'TCL PRO') THEN 'TCL Group' \r\n",
                "    ELSE BRAND \r\n",
                "  END AS Brand_Group,\r\n",
                "  SUM(SALES_UNITS) AS Units_Sold,\r\n",
                "  SUM(SALES_VALUE_SAR) AS Revenue\r\n",
                "FROM KSATVTEST\r\n",
                "WHERE PERIOD = 'JAN 24'\r\n",
                "GROUP BY\r\n",
                "  CASE \r\n",
                "    WHEN BRAND IN ('TCL', 'TCL PRO') THEN 'TCL Group' \r\n",
                "    ELSE BRAND \r\n",
                "  END\r\n",
                "ORDER BY Revenue DESC;"
            ],
            "metadata": {
                "language": "sql",
                "azdata_cell_guid": "8086f902-8729-43bd-abac-5dde721b4936"
            },
            "outputs": [
                {
                    "output_type": "display_data",
                    "data": {
                        "text/html": "Warning: Null value is eliminated by an aggregate or other SET operation."
                    },
                    "metadata": {}
                },
                {
                    "output_type": "display_data",
                    "data": {
                        "text/html": "(5 rows affected)"
                    },
                    "metadata": {}
                },
                {
                    "output_type": "display_data",
                    "data": {
                        "text/html": "Total execution time: 00:00:00.015"
                    },
                    "metadata": {}
                },
                {
                    "output_type": "execute_result",
                    "metadata": {},
                    "execution_count": 3,
                    "data": {
                        "application/vnd.dataresource+json": {
                            "schema": {
                                "fields": [
                                    {
                                        "name": "Brand_Group"
                                    },
                                    {
                                        "name": "Units_Sold"
                                    },
                                    {
                                        "name": "Revenue"
                                    }
                                ]
                            },
                            "data": [
                                {
                                    "Brand_Group": "SAMSUNG",
                                    "Units_Sold": "13483.476915299892",
                                    "Revenue": "37414202"
                                },
                                {
                                    "Brand_Group": "LG",
                                    "Units_Sold": "7685.642285168171",
                                    "Revenue": "26818798"
                                },
                                {
                                    "Brand_Group": "TCL Group",
                                    "Units_Sold": "11063.724117815495",
                                    "Revenue": "23915678"
                                },
                                {
                                    "Brand_Group": "SKYWORTH",
                                    "Units_Sold": "6498.1592807769775",
                                    "Revenue": "10537065"
                                },
                                {
                                    "Brand_Group": "SONY",
                                    "Units_Sold": "2451.193955898285",
                                    "Revenue": "10171154"
                                }
                            ]
                        },
                        "text/html": [
                            "<table>",
                            "<tr><th>Brand_Group</th><th>Units_Sold</th><th>Revenue</th></tr>",
                            "<tr><td>SAMSUNG</td><td>13483.476915299892</td><td>37414202</td></tr>",
                            "<tr><td>LG</td><td>7685.642285168171</td><td>26818798</td></tr>",
                            "<tr><td>TCL Group</td><td>11063.724117815495</td><td>23915678</td></tr>",
                            "<tr><td>SKYWORTH</td><td>6498.1592807769775</td><td>10537065</td></tr>",
                            "<tr><td>SONY</td><td>2451.193955898285</td><td>10171154</td></tr>",
                            "</table>"
                        ]
                    }
                }
            ],
            "execution_count": 3
        },
        {
            "cell_type": "code",
            "source": [
                "-- 3. Average Selling price by Brand\r\n",
                "SELECT\r\n",
                "  BRAND,\r\n",
                "  ROUND(AVG(PRICE_SAR), 0) AS Avg_Price_SAR\r\n",
                "FROM KSATVTEST\r\n",
                "WHERE PERIOD = 'JAN 24'\r\n",
                "GROUP BY BRAND\r\n",
                "ORDER BY Avg_Price_SAR DESC;"
            ],
            "metadata": {
                "azdata_cell_guid": "0713cc1b-5094-46ba-8308-cb35d633e22a",
                "language": "sql"
            },
            "outputs": [
                {
                    "output_type": "display_data",
                    "data": {
                        "text/html": "(85 rows affected)"
                    },
                    "metadata": {}
                },
                {
                    "output_type": "display_data",
                    "data": {
                        "text/html": "Total execution time: 00:00:00.033"
                    },
                    "metadata": {}
                },
                {
                    "output_type": "execute_result",
                    "metadata": {},
                    "execution_count": 4,
                    "data": {
                        "application/vnd.dataresource+json": {
                            "schema": {
                                "fields": [
                                    {
                                        "name": "BRAND"
                                    },
                                    {
                                        "name": "Avg_Price_SAR"
                                    }
                                ]
                            },
                            "data": [
                                {
                                    "BRAND": "SAMSUNG",
                                    "Avg_Price_SAR": "5820"
                                },
                                {
                                    "BRAND": "SONY",
                                    "Avg_Price_SAR": "5389"
                                },
                                {
                                    "BRAND": "LG",
                                    "Avg_Price_SAR": "4861"
                                },
                                {
                                    "BRAND": "HAOCROWN",
                                    "Avg_Price_SAR": "2989"
                                },
                                {
                                    "BRAND": "JVC",
                                    "Avg_Price_SAR": "2799"
                                },
                                {
                                    "BRAND": "MI",
                                    "Avg_Price_SAR": "2662"
                                },
                                {
                                    "BRAND": "TCL",
                                    "Avg_Price_SAR": "2331"
                                },
                                {
                                    "BRAND": "SKYWORTH",
                                    "Avg_Price_SAR": "2229"
                                },
                                {
                                    "BRAND": "HISENSE",
                                    "Avg_Price_SAR": "2204"
                                },
                                {
                                    "BRAND": "MIRAL",
                                    "Avg_Price_SAR": "2139"
                                },
                                {
                                    "BRAND": "HAIER",
                                    "Avg_Price_SAR": "2132"
                                },
                                {
                                    "BRAND": "GENERAL SUPREME",
                                    "Avg_Price_SAR": "2052"
                                },
                                {
                                    "BRAND": "PANASONIC",
                                    "Avg_Price_SAR": "2015"
                                },
                                {
                                    "BRAND": "LEVEL",
                                    "Avg_Price_SAR": "1971"
                                },
                                {
                                    "BRAND": "GENERAL GOLDY",
                                    "Avg_Price_SAR": "1750"
                                },
                                {
                                    "BRAND": "EKO",
                                    "Avg_Price_SAR": "1650"
                                },
                                {
                                    "BRAND": "XIAOMI",
                                    "Avg_Price_SAR": "1639"
                                },
                                {
                                    "BRAND": "ADMIRAL",
                                    "Avg_Price_SAR": "1622"
                                },
                                {
                                    "BRAND": "DAEWOO",
                                    "Avg_Price_SAR": "1600"
                                },
                                {
                                    "BRAND": "<TRADEBRAND & EXCLUSIVE>",
                                    "Avg_Price_SAR": "1498"
                                },
                                {
                                    "BRAND": "HAAS",
                                    "Avg_Price_SAR": "1475"
                                },
                                {
                                    "BRAND": "TIT",
                                    "Avg_Price_SAR": "1448"
                                },
                                {
                                    "BRAND": "SUPER GENERAL",
                                    "Avg_Price_SAR": "1419"
                                },
                                {
                                    "BRAND": "UGINE",
                                    "Avg_Price_SAR": "1403"
                                },
                                {
                                    "BRAND": "CTRONIQ",
                                    "Avg_Price_SAR": "1321"
                                },
                                {
                                    "BRAND": "NIKAI",
                                    "Avg_Price_SAR": "1306"
                                },
                                {
                                    "BRAND": "TOSHIBA",
                                    "Avg_Price_SAR": "1306"
                                },
                                {
                                    "BRAND": "GENERAL GOLDIN",
                                    "Avg_Price_SAR": "1291"
                                },
                                {
                                    "BRAND": "GENERAL DAN",
                                    "Avg_Price_SAR": "1286"
                                },
                                {
                                    "BRAND": "UNIX",
                                    "Avg_Price_SAR": "1276"
                                },
                                {
                                    "BRAND": "ATC",
                                    "Avg_Price_SAR": "1272"
                                },
                                {
                                    "BRAND": "VIENDO",
                                    "Avg_Price_SAR": "1256"
                                },
                                {
                                    "BRAND": "STARWAY",
                                    "Avg_Price_SAR": "1250"
                                },
                                {
                                    "BRAND": "SHARP",
                                    "Avg_Price_SAR": "1241"
                                },
                                {
                                    "BRAND": "GVC PRO",
                                    "Avg_Price_SAR": "1221"
                                },
                                {
                                    "BRAND": "GOLDTEC",
                                    "Avg_Price_SAR": "1185"
                                },
                                {
                                    "BRAND": "PHILIPS",
                                    "Avg_Price_SAR": "1180"
                                },
                                {
                                    "BRAND": "CHIQ",
                                    "Avg_Price_SAR": "1173"
                                },
                                {
                                    "BRAND": "FALCON",
                                    "Avg_Price_SAR": "1173"
                                },
                                {
                                    "BRAND": "NADCO",
                                    "Avg_Price_SAR": "1171"
                                },
                                {
                                    "BRAND": "IMPEX",
                                    "Avg_Price_SAR": "1154"
                                },
                                {
                                    "BRAND": "SREEN",
                                    "Avg_Price_SAR": "1150"
                                },
                                {
                                    "BRAND": "ARRQW",
                                    "Avg_Price_SAR": "1140"
                                },
                                {
                                    "BRAND": "ALTO",
                                    "Avg_Price_SAR": "1137"
                                },
                                {
                                    "BRAND": "FREGO",
                                    "Avg_Price_SAR": "1135"
                                },
                                {
                                    "BRAND": "DANSAT",
                                    "Avg_Price_SAR": "1132"
                                },
                                {
                                    "BRAND": "O2",
                                    "Avg_Price_SAR": "1129"
                                },
                                {
                                    "BRAND": "DORA",
                                    "Avg_Price_SAR": "1108"
                                },
                                {
                                    "BRAND": "SAHM",
                                    "Avg_Price_SAR": "1107"
                                },
                                {
                                    "BRAND": "KMC",
                                    "Avg_Price_SAR": "1106"
                                },
                                {
                                    "BRAND": "STARGOLD",
                                    "Avg_Price_SAR": "1100"
                                },
                                {
                                    "BRAND": "ORINO",
                                    "Avg_Price_SAR": "1086"
                                },
                                {
                                    "BRAND": "GEEPAS",
                                    "Avg_Price_SAR": "1083"
                                },
                                {
                                    "BRAND": "TELEZONE",
                                    "Avg_Price_SAR": "1059"
                                },
                                {
                                    "BRAND": "ARROW",
                                    "Avg_Price_SAR": "1041"
                                },
                                {
                                    "BRAND": "ICONE GOLD",
                                    "Avg_Price_SAR": "1034"
                                },
                                {
                                    "BRAND": "ITEL",
                                    "Avg_Price_SAR": "974"
                                },
                                {
                                    "BRAND": "FLEXY",
                                    "Avg_Price_SAR": "943"
                                },
                                {
                                    "BRAND": "BEAUSAT",
                                    "Avg_Price_SAR": "900"
                                },
                                {
                                    "BRAND": "KBC",
                                    "Avg_Price_SAR": "900"
                                },
                                {
                                    "BRAND": "IX PRO",
                                    "Avg_Price_SAR": "899"
                                },
                                {
                                    "BRAND": "VISIO",
                                    "Avg_Price_SAR": "898"
                                },
                                {
                                    "BRAND": "TAMCO",
                                    "Avg_Price_SAR": "855"
                                },
                                {
                                    "BRAND": "CHANGHONG",
                                    "Avg_Price_SAR": "850"
                                },
                                {
                                    "BRAND": "ITL",
                                    "Avg_Price_SAR": "825"
                                },
                                {
                                    "BRAND": "W.BOX",
                                    "Avg_Price_SAR": "811"
                                },
                                {
                                    "BRAND": "G-TEN",
                                    "Avg_Price_SAR": "810"
                                },
                                {
                                    "BRAND": "KONKA",
                                    "Avg_Price_SAR": "801"
                                },
                                {
                                    "BRAND": "ONIX",
                                    "Avg_Price_SAR": "782"
                                },
                                {
                                    "BRAND": "TOSHIRO",
                                    "Avg_Price_SAR": "769"
                                },
                                {
                                    "BRAND": "IX",
                                    "Avg_Price_SAR": "730"
                                },
                                {
                                    "BRAND": "STAR TRACK",
                                    "Avg_Price_SAR": "720"
                                },
                                {
                                    "BRAND": "DANHOME",
                                    "Avg_Price_SAR": "700"
                                },
                                {
                                    "BRAND": "FUJISTAR",
                                    "Avg_Price_SAR": "638"
                                },
                                {
                                    "BRAND": "ISMART",
                                    "Avg_Price_SAR": "625"
                                },
                                {
                                    "BRAND": "FELEX",
                                    "Avg_Price_SAR": "615"
                                },
                                {
                                    "BRAND": "GRACE",
                                    "Avg_Price_SAR": "612"
                                },
                                {
                                    "BRAND": "HITACHI",
                                    "Avg_Price_SAR": "609"
                                },
                                {
                                    "BRAND": "RCA",
                                    "Avg_Price_SAR": "571"
                                },
                                {
                                    "BRAND": "GVC",
                                    "Avg_Price_SAR": "522"
                                },
                                {
                                    "BRAND": "STAR GOLD",
                                    "Avg_Price_SAR": "514"
                                },
                                {
                                    "BRAND": "MICRODIGIT",
                                    "Avg_Price_SAR": "450"
                                },
                                {
                                    "BRAND": "AURORA",
                                    "Avg_Price_SAR": "396"
                                },
                                {
                                    "BRAND": "DELTA STAR",
                                    "Avg_Price_SAR": "370"
                                },
                                {
                                    "BRAND": "STARLIFE",
                                    "Avg_Price_SAR": "300"
                                }
                            ]
                        },
                        "text/html": [
                            "<table>",
                            "<tr><th>BRAND</th><th>Avg_Price_SAR</th></tr>",
                            "<tr><td>SAMSUNG</td><td>5820</td></tr>",
                            "<tr><td>SONY</td><td>5389</td></tr>",
                            "<tr><td>LG</td><td>4861</td></tr>",
                            "<tr><td>HAOCROWN</td><td>2989</td></tr>",
                            "<tr><td>JVC</td><td>2799</td></tr>",
                            "<tr><td>MI</td><td>2662</td></tr>",
                            "<tr><td>TCL</td><td>2331</td></tr>",
                            "<tr><td>SKYWORTH</td><td>2229</td></tr>",
                            "<tr><td>HISENSE</td><td>2204</td></tr>",
                            "<tr><td>MIRAL</td><td>2139</td></tr>",
                            "<tr><td>HAIER</td><td>2132</td></tr>",
                            "<tr><td>GENERAL SUPREME</td><td>2052</td></tr>",
                            "<tr><td>PANASONIC</td><td>2015</td></tr>",
                            "<tr><td>LEVEL</td><td>1971</td></tr>",
                            "<tr><td>GENERAL GOLDY</td><td>1750</td></tr>",
                            "<tr><td>EKO</td><td>1650</td></tr>",
                            "<tr><td>XIAOMI</td><td>1639</td></tr>",
                            "<tr><td>ADMIRAL</td><td>1622</td></tr>",
                            "<tr><td>DAEWOO</td><td>1600</td></tr>",
                            "<tr><td>&lt;TRADEBRAND &amp; EXCLUSIVE&gt;</td><td>1498</td></tr>",
                            "<tr><td>HAAS</td><td>1475</td></tr>",
                            "<tr><td>TIT</td><td>1448</td></tr>",
                            "<tr><td>SUPER GENERAL</td><td>1419</td></tr>",
                            "<tr><td>UGINE</td><td>1403</td></tr>",
                            "<tr><td>CTRONIQ</td><td>1321</td></tr>",
                            "<tr><td>NIKAI</td><td>1306</td></tr>",
                            "<tr><td>TOSHIBA</td><td>1306</td></tr>",
                            "<tr><td>GENERAL GOLDIN</td><td>1291</td></tr>",
                            "<tr><td>GENERAL DAN</td><td>1286</td></tr>",
                            "<tr><td>UNIX</td><td>1276</td></tr>",
                            "<tr><td>ATC</td><td>1272</td></tr>",
                            "<tr><td>VIENDO</td><td>1256</td></tr>",
                            "<tr><td>STARWAY</td><td>1250</td></tr>",
                            "<tr><td>SHARP</td><td>1241</td></tr>",
                            "<tr><td>GVC PRO</td><td>1221</td></tr>",
                            "<tr><td>GOLDTEC</td><td>1185</td></tr>",
                            "<tr><td>PHILIPS</td><td>1180</td></tr>",
                            "<tr><td>CHIQ</td><td>1173</td></tr>",
                            "<tr><td>FALCON</td><td>1173</td></tr>",
                            "<tr><td>NADCO</td><td>1171</td></tr>",
                            "<tr><td>IMPEX</td><td>1154</td></tr>",
                            "<tr><td>SREEN</td><td>1150</td></tr>",
                            "<tr><td>ARRQW</td><td>1140</td></tr>",
                            "<tr><td>ALTO</td><td>1137</td></tr>",
                            "<tr><td>FREGO</td><td>1135</td></tr>",
                            "<tr><td>DANSAT</td><td>1132</td></tr>",
                            "<tr><td>O2</td><td>1129</td></tr>",
                            "<tr><td>DORA</td><td>1108</td></tr>",
                            "<tr><td>SAHM</td><td>1107</td></tr>",
                            "<tr><td>KMC</td><td>1106</td></tr>",
                            "<tr><td>STARGOLD</td><td>1100</td></tr>",
                            "<tr><td>ORINO</td><td>1086</td></tr>",
                            "<tr><td>GEEPAS</td><td>1083</td></tr>",
                            "<tr><td>TELEZONE</td><td>1059</td></tr>",
                            "<tr><td>ARROW</td><td>1041</td></tr>",
                            "<tr><td>ICONE GOLD</td><td>1034</td></tr>",
                            "<tr><td>ITEL</td><td>974</td></tr>",
                            "<tr><td>FLEXY</td><td>943</td></tr>",
                            "<tr><td>BEAUSAT</td><td>900</td></tr>",
                            "<tr><td>KBC</td><td>900</td></tr>",
                            "<tr><td>IX PRO</td><td>899</td></tr>",
                            "<tr><td>VISIO</td><td>898</td></tr>",
                            "<tr><td>TAMCO</td><td>855</td></tr>",
                            "<tr><td>CHANGHONG</td><td>850</td></tr>",
                            "<tr><td>ITL</td><td>825</td></tr>",
                            "<tr><td>W.BOX</td><td>811</td></tr>",
                            "<tr><td>G-TEN</td><td>810</td></tr>",
                            "<tr><td>KONKA</td><td>801</td></tr>",
                            "<tr><td>ONIX</td><td>782</td></tr>",
                            "<tr><td>TOSHIRO</td><td>769</td></tr>",
                            "<tr><td>IX</td><td>730</td></tr>",
                            "<tr><td>STAR TRACK</td><td>720</td></tr>",
                            "<tr><td>DANHOME</td><td>700</td></tr>",
                            "<tr><td>FUJISTAR</td><td>638</td></tr>",
                            "<tr><td>ISMART</td><td>625</td></tr>",
                            "<tr><td>FELEX</td><td>615</td></tr>",
                            "<tr><td>GRACE</td><td>612</td></tr>",
                            "<tr><td>HITACHI</td><td>609</td></tr>",
                            "<tr><td>RCA</td><td>571</td></tr>",
                            "<tr><td>GVC</td><td>522</td></tr>",
                            "<tr><td>STAR GOLD</td><td>514</td></tr>",
                            "<tr><td>MICRODIGIT</td><td>450</td></tr>",
                            "<tr><td>AURORA</td><td>396</td></tr>",
                            "<tr><td>DELTA STAR</td><td>370</td></tr>",
                            "<tr><td>STARLIFE</td><td>300</td></tr>",
                            "</table>"
                        ]
                    }
                }
            ],
            "execution_count": 4
        }
    ]
}