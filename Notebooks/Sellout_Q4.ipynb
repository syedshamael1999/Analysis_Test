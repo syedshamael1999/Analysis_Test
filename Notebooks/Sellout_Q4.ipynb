{
    "metadata": {
        "kernelspec": {
            "name": "SQL",
            "display_name": "SQL",
            "language": "sql"
        },
        "language_info": {
            "name": "sql",
            "version": ""
        }
    },
    "nbformat_minor": 2,
    "nbformat": 4,
    "cells": [
        {
            "cell_type": "code",
            "source": [
                "/* Sellout_Q4 */"
            ],
            "metadata": {
                "language": "sql",
                "azdata_cell_guid": "4d1ecdf5-1544-4cd0-a58f-0d9f99b2ad65"
            },
            "outputs": [],
            "execution_count": null
        },
        {
            "cell_type": "code",
            "source": [
                "SELECT\r\n",
                "  Month,\r\n",
                "  SUM(Quantity) AS Total_Units_Sold,\r\n",
                "  SUM(Revenue) AS Total_Revenue,\r\n",
                "\r\n",
                "  -- Difference from previous month\r\n",
                "  SUM(Quantity) - LAG(SUM(Quantity)) OVER (ORDER BY Month) AS Units_Diff,\r\n",
                "\r\n",
                "  ROUND((SUM(Quantity) - LAG(SUM(Quantity)) OVER (ORDER BY Month)) * 100.0 /\r\n",
                "        NULLIF(LAG(SUM(Quantity)) OVER (ORDER BY Month), 0), 1) AS Units_Percent_Change,\r\n",
                "\r\n",
                "  SUM(Revenue) - LAG(SUM(Revenue)) OVER (ORDER BY Month) AS Revenue_Diff,\r\n",
                "\r\n",
                "  ROUND((SUM(Revenue) - LAG(SUM(Revenue)) OVER (ORDER BY Month)) * 100.0 /\r\n",
                "        NULLIF(LAG(SUM(Revenue)) OVER (ORDER BY Month), 0), 1) AS Revenue_Percent_Change\r\n",
                "\r\n",
                "FROM Sellout_Q4\r\n",
                "GROUP BY Month\r\n",
                "ORDER BY Month;"
            ],
            "metadata": {
                "azdata_cell_guid": "7200bf99-404b-4bb4-9849-0767ae8cf76d",
                "language": "sql"
            },
            "outputs": [
                {
                    "output_type": "display_data",
                    "data": {
                        "text/html": "(4 rows affected)"
                    },
                    "metadata": {}
                },
                {
                    "output_type": "display_data",
                    "data": {
                        "text/html": "Total execution time: 00:00:00.080"
                    },
                    "metadata": {}
                },
                {
                    "output_type": "execute_result",
                    "metadata": {},
                    "execution_count": 1,
                    "data": {
                        "application/vnd.dataresource+json": {
                            "schema": {
                                "fields": [
                                    {
                                        "name": "Month"
                                    },
                                    {
                                        "name": "Total_Units_Sold"
                                    },
                                    {
                                        "name": "Total_Revenue"
                                    },
                                    {
                                        "name": "Units_Diff"
                                    },
                                    {
                                        "name": "Units_Percent_Change"
                                    },
                                    {
                                        "name": "Revenue_Diff"
                                    },
                                    {
                                        "name": "Revenue_Percent_Change"
                                    }
                                ]
                            },
                            "data": [
                                {
                                    "Month": "9",
                                    "Total_Units_Sold": "654",
                                    "Total_Revenue": "1874912",
                                    "Units_Diff": "NULL",
                                    "Units_Percent_Change": "NULL",
                                    "Revenue_Diff": "NULL",
                                    "Revenue_Percent_Change": "NULL"
                                },
                                {
                                    "Month": "10",
                                    "Total_Units_Sold": "7412",
                                    "Total_Revenue": "20597028",
                                    "Units_Diff": "6758",
                                    "Units_Percent_Change": "1033.300000000000",
                                    "Revenue_Diff": "18722116",
                                    "Revenue_Percent_Change": "998.600000000000"
                                },
                                {
                                    "Month": "11",
                                    "Total_Units_Sold": "8176",
                                    "Total_Revenue": "21813068",
                                    "Units_Diff": "764",
                                    "Units_Percent_Change": "10.300000000000",
                                    "Revenue_Diff": "1216040",
                                    "Revenue_Percent_Change": "5.900000000000"
                                },
                                {
                                    "Month": "12",
                                    "Total_Units_Sold": "7735",
                                    "Total_Revenue": "19427642",
                                    "Units_Diff": "-441",
                                    "Units_Percent_Change": "-5.400000000000",
                                    "Revenue_Diff": "-2385426",
                                    "Revenue_Percent_Change": "-10.900000000000"
                                }
                            ]
                        },
                        "text/html": [
                            "<table>",
                            "<tr><th>Month</th><th>Total_Units_Sold</th><th>Total_Revenue</th><th>Units_Diff</th><th>Units_Percent_Change</th><th>Revenue_Diff</th><th>Revenue_Percent_Change</th></tr>",
                            "<tr><td>9</td><td>654</td><td>1874912</td><td>NULL</td><td>NULL</td><td>NULL</td><td>NULL</td></tr>",
                            "<tr><td>10</td><td>7412</td><td>20597028</td><td>6758</td><td>1033.300000000000</td><td>18722116</td><td>998.600000000000</td></tr>",
                            "<tr><td>11</td><td>8176</td><td>21813068</td><td>764</td><td>10.300000000000</td><td>1216040</td><td>5.900000000000</td></tr>",
                            "<tr><td>12</td><td>7735</td><td>19427642</td><td>-441</td><td>-5.400000000000</td><td>-2385426</td><td>-10.900000000000</td></tr>",
                            "</table>"
                        ]
                    }
                }
            ],
            "execution_count": 1
        },
        {
            "cell_type": "code",
            "source": [
                "-- Top-Selling Models\r\n",
                "SELECT\r\n",
                "\t  Model,\r\n",
                "\t  SUM(Quantity) AS Units_Sold,\r\n",
                "\t  SUM(Revenue) AS Total_Revenue\r\n",
                "FROM Sellout_Q4\r\n",
                "GROUP BY Model\r\n",
                "ORDER BY Total_Revenue DESC\r\n",
                "OFFSET 0 ROWS FETCH NEXT 10 ROWS ONLY;"
            ],
            "metadata": {
                "language": "sql",
                "azdata_cell_guid": "284bcc15-98c2-48b0-89fc-fd402d82f1c2"
            },
            "outputs": [
                {
                    "output_type": "display_data",
                    "data": {
                        "text/html": "(10 rows affected)"
                    },
                    "metadata": {}
                },
                {
                    "output_type": "display_data",
                    "data": {
                        "text/html": "Total execution time: 00:00:00.073"
                    },
                    "metadata": {}
                },
                {
                    "output_type": "execute_result",
                    "metadata": {},
                    "execution_count": 2,
                    "data": {
                        "application/vnd.dataresource+json": {
                            "schema": {
                                "fields": [
                                    {
                                        "name": "Model"
                                    },
                                    {
                                        "name": "Units_Sold"
                                    },
                                    {
                                        "name": "Total_Revenue"
                                    }
                                ]
                            },
                            "data": [
                                {
                                    "Model": "65C655",
                                    "Units_Sold": "2983",
                                    "Total_Revenue": "7723606"
                                },
                                {
                                    "Model": "65V6B",
                                    "Units_Sold": "3189",
                                    "Total_Revenue": "6093770"
                                },
                                {
                                    "Model": "65T8B",
                                    "Units_Sold": "1130",
                                    "Total_Revenue": "3381800"
                                },
                                {
                                    "Model": "75C655",
                                    "Units_Sold": "740",
                                    "Total_Revenue": "2839038"
                                },
                                {
                                    "Model": "65P69B",
                                    "Units_Sold": "1242",
                                    "Total_Revenue": "2490435"
                                },
                                {
                                    "Model": "85C655",
                                    "Units_Sold": "454",
                                    "Total_Revenue": "2307492"
                                },
                                {
                                    "Model": "98P745",
                                    "Units_Sold": "257",
                                    "Total_Revenue": "1929731"
                                },
                                {
                                    "Model": "65P71B",
                                    "Units_Sold": "993",
                                    "Total_Revenue": "1907347"
                                },
                                {
                                    "Model": "55C655",
                                    "Units_Sold": "958",
                                    "Total_Revenue": "1897551"
                                },
                                {
                                    "Model": "75P755",
                                    "Units_Sold": "615",
                                    "Total_Revenue": "1813170"
                                }
                            ]
                        },
                        "text/html": [
                            "<table>",
                            "<tr><th>Model</th><th>Units_Sold</th><th>Total_Revenue</th></tr>",
                            "<tr><td>65C655</td><td>2983</td><td>7723606</td></tr>",
                            "<tr><td>65V6B</td><td>3189</td><td>6093770</td></tr>",
                            "<tr><td>65T8B</td><td>1130</td><td>3381800</td></tr>",
                            "<tr><td>75C655</td><td>740</td><td>2839038</td></tr>",
                            "<tr><td>65P69B</td><td>1242</td><td>2490435</td></tr>",
                            "<tr><td>85C655</td><td>454</td><td>2307492</td></tr>",
                            "<tr><td>98P745</td><td>257</td><td>1929731</td></tr>",
                            "<tr><td>65P71B</td><td>993</td><td>1907347</td></tr>",
                            "<tr><td>55C655</td><td>958</td><td>1897551</td></tr>",
                            "<tr><td>75P755</td><td>615</td><td>1813170</td></tr>",
                            "</table>"
                        ]
                    }
                }
            ],
            "execution_count": 2
        },
        {
            "cell_type": "code",
            "source": [
                "-- Model Performance – Identify Underperformers\r\n",
                "SELECT\r\n",
                "  Model,\r\n",
                "  SUM(Quantity) AS Units_Sold,\r\n",
                "  SUM(Revenue) AS Revenue\r\n",
                "FROM Sellout_Q4\r\n",
                "GROUP BY Model\r\n",
                "HAVING SUM(Quantity) < 10  -- You can adjust this threshold\r\n",
                "ORDER BY Revenue ASC;\r\n",
                "-- Found 0 revenue meaning Qty * Price formula doesnt apply "
            ],
            "metadata": {
                "language": "sql",
                "azdata_cell_guid": "eaf006e7-1190-48c4-8102-33357979dcce"
            },
            "outputs": [
                {
                    "output_type": "display_data",
                    "data": {
                        "text/html": "(22 rows affected)"
                    },
                    "metadata": {}
                },
                {
                    "output_type": "display_data",
                    "data": {
                        "text/html": "Total execution time: 00:00:00.036"
                    },
                    "metadata": {}
                },
                {
                    "output_type": "execute_result",
                    "metadata": {},
                    "execution_count": 3,
                    "data": {
                        "application/vnd.dataresource+json": {
                            "schema": {
                                "fields": [
                                    {
                                        "name": "Model"
                                    },
                                    {
                                        "name": "Units_Sold"
                                    },
                                    {
                                        "name": "Revenue"
                                    }
                                ]
                            },
                            "data": [
                                {
                                    "Model": "32D310",
                                    "Units_Sold": "2",
                                    "Revenue": "638"
                                },
                                {
                                    "Model": "50C635",
                                    "Units_Sold": "2",
                                    "Revenue": "1400"
                                },
                                {
                                    "Model": "55C735",
                                    "Units_Sold": "2",
                                    "Revenue": "1998"
                                },
                                {
                                    "Model": "55C725",
                                    "Units_Sold": "1",
                                    "Revenue": "2149"
                                },
                                {
                                    "Model": "55P617",
                                    "Units_Sold": "2",
                                    "Revenue": "3198"
                                },
                                {
                                    "Model": "65C635",
                                    "Units_Sold": "2",
                                    "Revenue": "4198"
                                },
                                {
                                    "Model": "55C635",
                                    "Units_Sold": "4",
                                    "Revenue": "4694"
                                },
                                {
                                    "Model": "50P637",
                                    "Units_Sold": "4",
                                    "Revenue": "4894"
                                },
                                {
                                    "Model": "50P71B",
                                    "Units_Sold": "4",
                                    "Revenue": "5396"
                                },
                                {
                                    "Model": "75P637",
                                    "Units_Sold": "2",
                                    "Revenue": "5398"
                                },
                                {
                                    "Model": "55C835",
                                    "Units_Sold": "4",
                                    "Revenue": "5996"
                                },
                                {
                                    "Model": "55C825",
                                    "Units_Sold": "2",
                                    "Revenue": "6598"
                                },
                                {
                                    "Model": "75C955",
                                    "Units_Sold": "2",
                                    "Revenue": "7198"
                                },
                                {
                                    "Model": "75C735",
                                    "Units_Sold": "4",
                                    "Revenue": "7998"
                                },
                                {
                                    "Model": "65T635",
                                    "Units_Sold": "7",
                                    "Revenue": "11943"
                                },
                                {
                                    "Model": "55P61B",
                                    "Units_Sold": "9",
                                    "Revenue": "13041"
                                },
                                {
                                    "Model": "58T635",
                                    "Units_Sold": "9",
                                    "Revenue": "13527"
                                },
                                {
                                    "Model": "58P635",
                                    "Units_Sold": "9",
                                    "Revenue": "13903"
                                },
                                {
                                    "Model": "75C845",
                                    "Units_Sold": "7",
                                    "Revenue": "28482"
                                },
                                {
                                    "Model": "65C735",
                                    "Units_Sold": "4",
                                    "Revenue": "28998"
                                },
                                {
                                    "Model": "75C645",
                                    "Units_Sold": "9",
                                    "Revenue": "29605"
                                },
                                {
                                    "Model": "98X955",
                                    "Units_Sold": "2",
                                    "Revenue": "149998"
                                }
                            ]
                        },
                        "text/html": [
                            "<table>",
                            "<tr><th>Model</th><th>Units_Sold</th><th>Revenue</th></tr>",
                            "<tr><td>32D310</td><td>2</td><td>638</td></tr>",
                            "<tr><td>50C635</td><td>2</td><td>1400</td></tr>",
                            "<tr><td>55C735</td><td>2</td><td>1998</td></tr>",
                            "<tr><td>55C725</td><td>1</td><td>2149</td></tr>",
                            "<tr><td>55P617</td><td>2</td><td>3198</td></tr>",
                            "<tr><td>65C635</td><td>2</td><td>4198</td></tr>",
                            "<tr><td>55C635</td><td>4</td><td>4694</td></tr>",
                            "<tr><td>50P637</td><td>4</td><td>4894</td></tr>",
                            "<tr><td>50P71B</td><td>4</td><td>5396</td></tr>",
                            "<tr><td>75P637</td><td>2</td><td>5398</td></tr>",
                            "<tr><td>55C835</td><td>4</td><td>5996</td></tr>",
                            "<tr><td>55C825</td><td>2</td><td>6598</td></tr>",
                            "<tr><td>75C955</td><td>2</td><td>7198</td></tr>",
                            "<tr><td>75C735</td><td>4</td><td>7998</td></tr>",
                            "<tr><td>65T635</td><td>7</td><td>11943</td></tr>",
                            "<tr><td>55P61B</td><td>9</td><td>13041</td></tr>",
                            "<tr><td>58T635</td><td>9</td><td>13527</td></tr>",
                            "<tr><td>58P635</td><td>9</td><td>13903</td></tr>",
                            "<tr><td>75C845</td><td>7</td><td>28482</td></tr>",
                            "<tr><td>65C735</td><td>4</td><td>28998</td></tr>",
                            "<tr><td>75C645</td><td>9</td><td>29605</td></tr>",
                            "<tr><td>98X955</td><td>2</td><td>149998</td></tr>",
                            "</table>"
                        ]
                    }
                }
            ],
            "execution_count": 3
        },
        {
            "cell_type": "code",
            "source": [
                "-- Clean the Data \r\n",
                "SELECT Sales_Price, Quantity, Revenue\r\n",
                "FROM Sellout_Q4\r\n",
                "WHERE Revenue = 0 AND Quantity > 0 AND Sales_Price > 0;\r\n",
                "-- Findings: Found all revenue that dont apply Qty * Price formula"
            ],
            "metadata": {
                "language": "sql",
                "azdata_cell_guid": "18dfd5a8-c133-40ec-b0ef-4a832f152e11"
            },
            "outputs": [
                {
                    "output_type": "display_data",
                    "data": {
                        "text/html": "(0 rows affected)"
                    },
                    "metadata": {}
                },
                {
                    "output_type": "display_data",
                    "data": {
                        "text/html": "Total execution time: 00:00:00.044"
                    },
                    "metadata": {}
                },
                {
                    "output_type": "execute_result",
                    "metadata": {},
                    "execution_count": 4,
                    "data": {
                        "application/vnd.dataresource+json": {
                            "schema": {
                                "fields": [
                                    {
                                        "name": "Sales_Price"
                                    },
                                    {
                                        "name": "Quantity"
                                    },
                                    {
                                        "name": "Revenue"
                                    }
                                ]
                            },
                            "data": []
                        },
                        "text/html": [
                            "<table>",
                            "<tr><th>Sales_Price</th><th>Quantity</th><th>Revenue</th></tr>",
                            "</table>"
                        ]
                    }
                }
            ],
            "execution_count": 4
        },
        {
            "cell_type": "code",
            "source": [
                "-- Updating Table with formula\r\n",
                "UPDATE Sellout_Q4\r\n",
                "SET Revenue = Quantity * Sales_Price\r\n",
                "WHERE Revenue = 0 AND Quantity > 0 AND Sales_Price > 0;"
            ],
            "metadata": {
                "language": "sql",
                "azdata_cell_guid": "881012be-e5c7-4e5a-88c3-4f83b42be962"
            },
            "outputs": [
                {
                    "output_type": "display_data",
                    "data": {
                        "text/html": "(0 rows affected)"
                    },
                    "metadata": {}
                },
                {
                    "output_type": "display_data",
                    "data": {
                        "text/html": "Total execution time: 00:00:00.068"
                    },
                    "metadata": {}
                }
            ],
            "execution_count": 5
        },
        {
            "cell_type": "code",
            "source": [
                "-- Redo: -- Model Performance – Identify Underperformers\r\n",
                "SELECT\r\n",
                "  Model,\r\n",
                "  SUM(Quantity) AS Units_Sold,\r\n",
                "  SUM(Revenue) AS Revenue\r\n",
                "FROM Sellout_Q4\r\n",
                "GROUP BY Model\r\n",
                "HAVING SUM(Quantity) < 10  -- You can adjust this threshold\r\n",
                "ORDER BY Revenue ASC;"
            ],
            "metadata": {
                "language": "sql",
                "azdata_cell_guid": "4b98d227-bbfb-4353-a31c-aae653465369"
            },
            "outputs": [
                {
                    "output_type": "display_data",
                    "data": {
                        "text/html": "(22 rows affected)"
                    },
                    "metadata": {}
                },
                {
                    "output_type": "display_data",
                    "data": {
                        "text/html": "Total execution time: 00:00:00.059"
                    },
                    "metadata": {}
                },
                {
                    "output_type": "execute_result",
                    "metadata": {},
                    "execution_count": 6,
                    "data": {
                        "application/vnd.dataresource+json": {
                            "schema": {
                                "fields": [
                                    {
                                        "name": "Model"
                                    },
                                    {
                                        "name": "Units_Sold"
                                    },
                                    {
                                        "name": "Revenue"
                                    }
                                ]
                            },
                            "data": [
                                {
                                    "Model": "32D310",
                                    "Units_Sold": "2",
                                    "Revenue": "638"
                                },
                                {
                                    "Model": "50C635",
                                    "Units_Sold": "2",
                                    "Revenue": "1400"
                                },
                                {
                                    "Model": "55C735",
                                    "Units_Sold": "2",
                                    "Revenue": "1998"
                                },
                                {
                                    "Model": "55C725",
                                    "Units_Sold": "1",
                                    "Revenue": "2149"
                                },
                                {
                                    "Model": "55P617",
                                    "Units_Sold": "2",
                                    "Revenue": "3198"
                                },
                                {
                                    "Model": "65C635",
                                    "Units_Sold": "2",
                                    "Revenue": "4198"
                                },
                                {
                                    "Model": "55C635",
                                    "Units_Sold": "4",
                                    "Revenue": "4694"
                                },
                                {
                                    "Model": "50P637",
                                    "Units_Sold": "4",
                                    "Revenue": "4894"
                                },
                                {
                                    "Model": "50P71B",
                                    "Units_Sold": "4",
                                    "Revenue": "5396"
                                },
                                {
                                    "Model": "75P637",
                                    "Units_Sold": "2",
                                    "Revenue": "5398"
                                },
                                {
                                    "Model": "55C835",
                                    "Units_Sold": "4",
                                    "Revenue": "5996"
                                },
                                {
                                    "Model": "55C825",
                                    "Units_Sold": "2",
                                    "Revenue": "6598"
                                },
                                {
                                    "Model": "75C955",
                                    "Units_Sold": "2",
                                    "Revenue": "7198"
                                },
                                {
                                    "Model": "75C735",
                                    "Units_Sold": "4",
                                    "Revenue": "7998"
                                },
                                {
                                    "Model": "65T635",
                                    "Units_Sold": "7",
                                    "Revenue": "11943"
                                },
                                {
                                    "Model": "55P61B",
                                    "Units_Sold": "9",
                                    "Revenue": "13041"
                                },
                                {
                                    "Model": "58T635",
                                    "Units_Sold": "9",
                                    "Revenue": "13527"
                                },
                                {
                                    "Model": "58P635",
                                    "Units_Sold": "9",
                                    "Revenue": "13903"
                                },
                                {
                                    "Model": "75C845",
                                    "Units_Sold": "7",
                                    "Revenue": "28482"
                                },
                                {
                                    "Model": "65C735",
                                    "Units_Sold": "4",
                                    "Revenue": "28998"
                                },
                                {
                                    "Model": "75C645",
                                    "Units_Sold": "9",
                                    "Revenue": "29605"
                                },
                                {
                                    "Model": "98X955",
                                    "Units_Sold": "2",
                                    "Revenue": "149998"
                                }
                            ]
                        },
                        "text/html": [
                            "<table>",
                            "<tr><th>Model</th><th>Units_Sold</th><th>Revenue</th></tr>",
                            "<tr><td>32D310</td><td>2</td><td>638</td></tr>",
                            "<tr><td>50C635</td><td>2</td><td>1400</td></tr>",
                            "<tr><td>55C735</td><td>2</td><td>1998</td></tr>",
                            "<tr><td>55C725</td><td>1</td><td>2149</td></tr>",
                            "<tr><td>55P617</td><td>2</td><td>3198</td></tr>",
                            "<tr><td>65C635</td><td>2</td><td>4198</td></tr>",
                            "<tr><td>55C635</td><td>4</td><td>4694</td></tr>",
                            "<tr><td>50P637</td><td>4</td><td>4894</td></tr>",
                            "<tr><td>50P71B</td><td>4</td><td>5396</td></tr>",
                            "<tr><td>75P637</td><td>2</td><td>5398</td></tr>",
                            "<tr><td>55C835</td><td>4</td><td>5996</td></tr>",
                            "<tr><td>55C825</td><td>2</td><td>6598</td></tr>",
                            "<tr><td>75C955</td><td>2</td><td>7198</td></tr>",
                            "<tr><td>75C735</td><td>4</td><td>7998</td></tr>",
                            "<tr><td>65T635</td><td>7</td><td>11943</td></tr>",
                            "<tr><td>55P61B</td><td>9</td><td>13041</td></tr>",
                            "<tr><td>58T635</td><td>9</td><td>13527</td></tr>",
                            "<tr><td>58P635</td><td>9</td><td>13903</td></tr>",
                            "<tr><td>75C845</td><td>7</td><td>28482</td></tr>",
                            "<tr><td>65C735</td><td>4</td><td>28998</td></tr>",
                            "<tr><td>75C645</td><td>9</td><td>29605</td></tr>",
                            "<tr><td>98X955</td><td>2</td><td>149998</td></tr>",
                            "</table>"
                        ]
                    }
                }
            ],
            "execution_count": 6
        },
        {
            "cell_type": "code",
            "source": [
                "-- Store Performance – Good performers\r\n",
                "SELECT TOP 10\r\n",
                "  Store_Name,\r\n",
                "  SUM(Quantity) AS Units_Sold,\r\n",
                "  SUM(Revenue) AS Revenue\r\n",
                "FROM Sellout_Q4\r\n",
                "GROUP BY Store_Name\r\n",
                "ORDER BY Revenue DESC;"
            ],
            "metadata": {
                "language": "sql",
                "azdata_cell_guid": "e970d192-f0c3-4510-876c-3835ad0a90e8"
            },
            "outputs": [
                {
                    "output_type": "display_data",
                    "data": {
                        "text/html": "(10 rows affected)"
                    },
                    "metadata": {}
                },
                {
                    "output_type": "display_data",
                    "data": {
                        "text/html": "Total execution time: 00:00:00.047"
                    },
                    "metadata": {}
                },
                {
                    "output_type": "execute_result",
                    "metadata": {},
                    "execution_count": 7,
                    "data": {
                        "application/vnd.dataresource+json": {
                            "schema": {
                                "fields": [
                                    {
                                        "name": "Store_Name"
                                    },
                                    {
                                        "name": "Units_Sold"
                                    },
                                    {
                                        "name": "Revenue"
                                    }
                                ]
                            },
                            "data": [
                                {
                                    "Store_Name": "Extra Jizan",
                                    "Units_Sold": "2170",
                                    "Revenue": "4778399"
                                },
                                {
                                    "Store_Name": "eXtra Sultan",
                                    "Units_Sold": "1024",
                                    "Revenue": "3467877"
                                },
                                {
                                    "Store_Name": "eXtra RAKA",
                                    "Units_Sold": "837",
                                    "Revenue": "2562654"
                                },
                                {
                                    "Store_Name": "manea Alrimal",
                                    "Units_Sold": "480",
                                    "Revenue": "2270242"
                                },
                                {
                                    "Store_Name": "Almanea Albustan King fahad Rd Khobar",
                                    "Units_Sold": "760",
                                    "Revenue": "2156760"
                                },
                                {
                                    "Store_Name": "eXtra Medina Aaliah mall",
                                    "Units_Sold": "702",
                                    "Revenue": "1867900"
                                },
                                {
                                    "Store_Name": "Extra aziziyah DMM",
                                    "Units_Sold": "574",
                                    "Revenue": "1598442"
                                },
                                {
                                    "Store_Name": "eXtra Tahlia",
                                    "Units_Sold": "578",
                                    "Revenue": "1548232"
                                },
                                {
                                    "Store_Name": "eXtra Dammam (Alfaysalya)",
                                    "Units_Sold": "558",
                                    "Revenue": "1528278"
                                },
                                {
                                    "Store_Name": "Extra Alraed",
                                    "Units_Sold": "275",
                                    "Revenue": "1479718"
                                }
                            ]
                        },
                        "text/html": [
                            "<table>",
                            "<tr><th>Store_Name</th><th>Units_Sold</th><th>Revenue</th></tr>",
                            "<tr><td>Extra Jizan</td><td>2170</td><td>4778399</td></tr>",
                            "<tr><td>eXtra Sultan</td><td>1024</td><td>3467877</td></tr>",
                            "<tr><td>eXtra RAKA</td><td>837</td><td>2562654</td></tr>",
                            "<tr><td>manea Alrimal</td><td>480</td><td>2270242</td></tr>",
                            "<tr><td>Almanea Albustan King fahad Rd Khobar</td><td>760</td><td>2156760</td></tr>",
                            "<tr><td>eXtra Medina Aaliah mall</td><td>702</td><td>1867900</td></tr>",
                            "<tr><td>Extra aziziyah DMM</td><td>574</td><td>1598442</td></tr>",
                            "<tr><td>eXtra Tahlia</td><td>578</td><td>1548232</td></tr>",
                            "<tr><td>eXtra Dammam (Alfaysalya)</td><td>558</td><td>1528278</td></tr>",
                            "<tr><td>Extra Alraed</td><td>275</td><td>1479718</td></tr>",
                            "</table>"
                        ]
                    }
                }
            ],
            "execution_count": 7
        },
        {
            "cell_type": "code",
            "source": [
                "-- Store Performance – Bad performers\r\n",
                "SELECT TOP 10\r\n",
                "  Store_Name,\r\n",
                "  SUM(Quantity) AS Units_Sold,\r\n",
                "  SUM(Revenue) AS Revenue\r\n",
                "FROM Sellout_Q4\r\n",
                "GROUP BY Store_Name\r\n",
                "ORDER BY Revenue ASC;"
            ],
            "metadata": {
                "language": "sql",
                "azdata_cell_guid": "06caa135-b8b4-45ac-9aec-d4cc2944fb7b"
            },
            "outputs": [
                {
                    "output_type": "display_data",
                    "data": {
                        "text/html": "(10 rows affected)"
                    },
                    "metadata": {}
                },
                {
                    "output_type": "display_data",
                    "data": {
                        "text/html": "Total execution time: 00:00:00.081"
                    },
                    "metadata": {}
                },
                {
                    "output_type": "execute_result",
                    "metadata": {},
                    "execution_count": 8,
                    "data": {
                        "application/vnd.dataresource+json": {
                            "schema": {
                                "fields": [
                                    {
                                        "name": "Store_Name"
                                    },
                                    {
                                        "name": "Units_Sold"
                                    },
                                    {
                                        "name": "Revenue"
                                    }
                                ]
                            },
                            "data": [
                                {
                                    "Store_Name": "Saco Jabal Thor Makkah",
                                    "Units_Sold": "4",
                                    "Revenue": "8536"
                                },
                                {
                                    "Store_Name": "Al Faislaiah District DMM (Jarir)",
                                    "Units_Sold": "6",
                                    "Revenue": "13194"
                                },
                                {
                                    "Store_Name": "Saco Khurais Riyadh",
                                    "Units_Sold": "6",
                                    "Revenue": "16194"
                                },
                                {
                                    "Store_Name": "BH Alaskri RD",
                                    "Units_Sold": "17",
                                    "Revenue": "27502"
                                },
                                {
                                    "Store_Name": "Marwa (Mandreen) Jed (BH)",
                                    "Units_Sold": "30",
                                    "Revenue": "52940"
                                },
                                {
                                    "Store_Name": "Saco world King Abdullah St Riyadh",
                                    "Units_Sold": "20",
                                    "Revenue": "55236"
                                },
                                {
                                    "Store_Name": "blackbox King Faisal",
                                    "Units_Sold": "28",
                                    "Revenue": "68278"
                                },
                                {
                                    "Store_Name": "Saco Tahlia Jeddah",
                                    "Units_Sold": "34",
                                    "Revenue": "78286"
                                },
                                {
                                    "Store_Name": "Lulu Hypermarket Marwah Jeddah",
                                    "Units_Sold": "47",
                                    "Revenue": "80993"
                                },
                                {
                                    "Store_Name": "LuLu Hypermarket Al Yasmin Riyadh",
                                    "Units_Sold": "49",
                                    "Revenue": "86991"
                                }
                            ]
                        },
                        "text/html": [
                            "<table>",
                            "<tr><th>Store_Name</th><th>Units_Sold</th><th>Revenue</th></tr>",
                            "<tr><td>Saco Jabal Thor Makkah</td><td>4</td><td>8536</td></tr>",
                            "<tr><td>Al Faislaiah District DMM (Jarir)</td><td>6</td><td>13194</td></tr>",
                            "<tr><td>Saco Khurais Riyadh</td><td>6</td><td>16194</td></tr>",
                            "<tr><td>BH Alaskri RD</td><td>17</td><td>27502</td></tr>",
                            "<tr><td>Marwa (Mandreen) Jed (BH)</td><td>30</td><td>52940</td></tr>",
                            "<tr><td>Saco world King Abdullah St Riyadh</td><td>20</td><td>55236</td></tr>",
                            "<tr><td>blackbox King Faisal</td><td>28</td><td>68278</td></tr>",
                            "<tr><td>Saco Tahlia Jeddah</td><td>34</td><td>78286</td></tr>",
                            "<tr><td>Lulu Hypermarket Marwah Jeddah</td><td>47</td><td>80993</td></tr>",
                            "<tr><td>LuLu Hypermarket Al Yasmin Riyadh</td><td>49</td><td>86991</td></tr>",
                            "</table>"
                        ]
                    }
                }
            ],
            "execution_count": 8
        },
        {
            "cell_type": "code",
            "source": [
                "-- Customer (Retailer) Performance\r\n",
                "SELECT\r\n",
                "  Customer,\r\n",
                "  SUM(Quantity) AS Units_Sold,\r\n",
                "  SUM(Revenue) AS Revenue\r\n",
                "FROM Sellout_Q4\r\n",
                "GROUP BY Customer\r\n",
                "ORDER BY Revenue DESC;"
            ],
            "metadata": {
                "language": "sql",
                "azdata_cell_guid": "70edeefc-3963-45ac-ad84-30562bf2ee59"
            },
            "outputs": [
                {
                    "output_type": "display_data",
                    "data": {
                        "text/html": "(9 rows affected)"
                    },
                    "metadata": {}
                },
                {
                    "output_type": "display_data",
                    "data": {
                        "text/html": "Total execution time: 00:00:00.033"
                    },
                    "metadata": {}
                },
                {
                    "output_type": "execute_result",
                    "metadata": {},
                    "execution_count": 9,
                    "data": {
                        "application/vnd.dataresource+json": {
                            "schema": {
                                "fields": [
                                    {
                                        "name": "Customer"
                                    },
                                    {
                                        "name": "Units_Sold"
                                    },
                                    {
                                        "name": "Revenue"
                                    }
                                ]
                            },
                            "data": [
                                {
                                    "Customer": "Extra",
                                    "Units_Sold": "13238",
                                    "Revenue": "36481742"
                                },
                                {
                                    "Customer": "Manea",
                                    "Units_Sold": "3549",
                                    "Revenue": "11139333"
                                },
                                {
                                    "Customer": "LuLu",
                                    "Units_Sold": "2788",
                                    "Revenue": "5657764"
                                },
                                {
                                    "Customer": "Jarir",
                                    "Units_Sold": "1664",
                                    "Revenue": "3917896"
                                },
                                {
                                    "Customer": "Bin Homood",
                                    "Units_Sold": "1372",
                                    "Revenue": "2811153"
                                },
                                {
                                    "Customer": "Saco",
                                    "Units_Sold": "408",
                                    "Revenue": "1408292"
                                },
                                {
                                    "Customer": "Black Box",
                                    "Units_Sold": "465",
                                    "Revenue": "1042743"
                                },
                                {
                                    "Customer": "Tamkeen",
                                    "Units_Sold": "234",
                                    "Revenue": "694316"
                                },
                                {
                                    "Customer": "Shita & Saif",
                                    "Units_Sold": "259",
                                    "Revenue": "559411"
                                }
                            ]
                        },
                        "text/html": [
                            "<table>",
                            "<tr><th>Customer</th><th>Units_Sold</th><th>Revenue</th></tr>",
                            "<tr><td>Extra</td><td>13238</td><td>36481742</td></tr>",
                            "<tr><td>Manea</td><td>3549</td><td>11139333</td></tr>",
                            "<tr><td>LuLu</td><td>2788</td><td>5657764</td></tr>",
                            "<tr><td>Jarir</td><td>1664</td><td>3917896</td></tr>",
                            "<tr><td>Bin Homood</td><td>1372</td><td>2811153</td></tr>",
                            "<tr><td>Saco</td><td>408</td><td>1408292</td></tr>",
                            "<tr><td>Black Box</td><td>465</td><td>1042743</td></tr>",
                            "<tr><td>Tamkeen</td><td>234</td><td>694316</td></tr>",
                            "<tr><td>Shita &amp; Saif</td><td>259</td><td>559411</td></tr>",
                            "</table>"
                        ]
                    }
                }
            ],
            "execution_count": 9
        },
        {
            "cell_type": "code",
            "source": [
                "-- Price Consistency Check\r\n",
                "SELECT\r\n",
                "  Model,\r\n",
                "  MIN(Sales_Price) AS Min_Price,\r\n",
                "  MAX(Sales_Price) AS Max_Price,\r\n",
                "  MAX(Sales_Price) - MIN(Sales_Price) AS Price_Diff\r\n",
                "FROM Sellout_Q4\r\n",
                "GROUP BY Model\r\n",
                "HAVING MAX(Sales_Price) - MIN(Sales_Price) > 300  -- Adjust threshold as needed\r\n",
                "ORDER BY Price_Diff DESC;\r\n",
                "-- found models with price differences from SAR 349 to SAR 99999 — may indicate lack of pricing control across locations.\r\n",
                "-- Possible 1. Lack of pricing governance 2. data entry error\r\n",
                "-- Recommendation: Enforce pricing rules across locations and validate outliers during reporting."
            ],
            "metadata": {
                "language": "sql",
                "azdata_cell_guid": "9c869042-1903-401c-9ab2-2316ea117249"
            },
            "outputs": [
                {
                    "output_type": "display_data",
                    "data": {
                        "text/html": "(72 rows affected)"
                    },
                    "metadata": {}
                },
                {
                    "output_type": "display_data",
                    "data": {
                        "text/html": "Total execution time: 00:00:00.058"
                    },
                    "metadata": {}
                },
                {
                    "output_type": "execute_result",
                    "metadata": {},
                    "execution_count": 10,
                    "data": {
                        "application/vnd.dataresource+json": {
                            "schema": {
                                "fields": [
                                    {
                                        "name": "Model"
                                    },
                                    {
                                        "name": "Min_Price"
                                    },
                                    {
                                        "name": "Max_Price"
                                    },
                                    {
                                        "name": "Price_Diff"
                                    }
                                ]
                            },
                            "data": [
                                {
                                    "Model": "115X955 Max",
                                    "Min_Price": "3599",
                                    "Max_Price": "99999",
                                    "Price_Diff": "96400"
                                },
                                {
                                    "Model": "98P745",
                                    "Min_Price": "1599",
                                    "Max_Price": "25998",
                                    "Price_Diff": "24399"
                                },
                                {
                                    "Model": "55P69B",
                                    "Min_Price": "1334",
                                    "Max_Price": "23984",
                                    "Price_Diff": "22650"
                                },
                                {
                                    "Model": "65T8B",
                                    "Min_Price": "1999",
                                    "Max_Price": "21989",
                                    "Price_Diff": "19990"
                                },
                                {
                                    "Model": "58V6B",
                                    "Min_Price": "1399",
                                    "Max_Price": "13592",
                                    "Price_Diff": "12193"
                                },
                                {
                                    "Model": "65C655",
                                    "Min_Price": "1598",
                                    "Max_Price": "12999",
                                    "Price_Diff": "11401"
                                },
                                {
                                    "Model": "75P69B",
                                    "Min_Price": "1399",
                                    "Max_Price": "10792",
                                    "Price_Diff": "9393"
                                },
                                {
                                    "Model": "55P79B",
                                    "Min_Price": "1399",
                                    "Max_Price": "10194",
                                    "Price_Diff": "8795"
                                },
                                {
                                    "Model": "98C655",
                                    "Min_Price": "7599",
                                    "Max_Price": "15998",
                                    "Price_Diff": "8399"
                                },
                                {
                                    "Model": "85C655",
                                    "Min_Price": "2299",
                                    "Max_Price": "9998",
                                    "Price_Diff": "7699"
                                },
                                {
                                    "Model": "75C655",
                                    "Min_Price": "3099",
                                    "Max_Price": "10797",
                                    "Price_Diff": "7698"
                                },
                                {
                                    "Model": "55P735",
                                    "Min_Price": "1096",
                                    "Max_Price": "7995",
                                    "Price_Diff": "6899"
                                },
                                {
                                    "Model": "65P69B",
                                    "Min_Price": "1210",
                                    "Max_Price": "7996",
                                    "Price_Diff": "6786"
                                },
                                {
                                    "Model": "65P71B",
                                    "Min_Price": "1599",
                                    "Max_Price": "8245",
                                    "Price_Diff": "6646"
                                },
                                {
                                    "Model": "85V6B",
                                    "Min_Price": "1449",
                                    "Max_Price": "7998",
                                    "Price_Diff": "6549"
                                },
                                {
                                    "Model": "98C735",
                                    "Min_Price": "6999",
                                    "Max_Price": "12999",
                                    "Price_Diff": "6000"
                                },
                                {
                                    "Model": "65C845",
                                    "Min_Price": "1",
                                    "Max_Price": "5869",
                                    "Price_Diff": "5868"
                                },
                                {
                                    "Model": "50P61B",
                                    "Min_Price": "1199",
                                    "Max_Price": "6995",
                                    "Price_Diff": "5796"
                                },
                                {
                                    "Model": "65C755",
                                    "Min_Price": "2099",
                                    "Max_Price": "7798",
                                    "Price_Diff": "5699"
                                },
                                {
                                    "Model": "50C755",
                                    "Min_Price": "2159",
                                    "Max_Price": "7599",
                                    "Price_Diff": "5440"
                                },
                                {
                                    "Model": "75C745",
                                    "Min_Price": "2991",
                                    "Max_Price": "7595",
                                    "Price_Diff": "4604"
                                },
                                {
                                    "Model": "65P79B",
                                    "Min_Price": "1699",
                                    "Max_Price": "6297",
                                    "Price_Diff": "4598"
                                },
                                {
                                    "Model": "65C745",
                                    "Min_Price": "1800",
                                    "Max_Price": "5998",
                                    "Price_Diff": "4198"
                                },
                                {
                                    "Model": "75C755",
                                    "Min_Price": "2599",
                                    "Max_Price": "6499",
                                    "Price_Diff": "3900"
                                },
                                {
                                    "Model": "85C755",
                                    "Min_Price": "3899",
                                    "Max_Price": "7799",
                                    "Price_Diff": "3900"
                                },
                                {
                                    "Model": "75V6B",
                                    "Min_Price": "1699",
                                    "Max_Price": "5398",
                                    "Price_Diff": "3699"
                                },
                                {
                                    "Model": "55C745",
                                    "Min_Price": "1199",
                                    "Max_Price": "4598",
                                    "Price_Diff": "3399"
                                },
                                {
                                    "Model": "75P755",
                                    "Min_Price": "2294",
                                    "Max_Price": "5598",
                                    "Price_Diff": "3304"
                                },
                                {
                                    "Model": "75P79B",
                                    "Min_Price": "2499",
                                    "Max_Price": "5798",
                                    "Price_Diff": "3299"
                                },
                                {
                                    "Model": "55C655",
                                    "Min_Price": "1499",
                                    "Max_Price": "4198",
                                    "Price_Diff": "2699"
                                },
                                {
                                    "Model": "75C645",
                                    "Min_Price": "2193",
                                    "Max_Price": "4799",
                                    "Price_Diff": "2606"
                                },
                                {
                                    "Model": "70P635",
                                    "Min_Price": "1999",
                                    "Max_Price": "4598",
                                    "Price_Diff": "2599"
                                },
                                {
                                    "Model": "55C755",
                                    "Min_Price": "1799",
                                    "Max_Price": "4199",
                                    "Price_Diff": "2400"
                                },
                                {
                                    "Model": "65V6B",
                                    "Min_Price": "1484",
                                    "Max_Price": "3798",
                                    "Price_Diff": "2314"
                                },
                                {
                                    "Model": "55C645",
                                    "Min_Price": "1299",
                                    "Max_Price": "3599",
                                    "Price_Diff": "2300"
                                },
                                {
                                    "Model": "98C755",
                                    "Min_Price": "14999",
                                    "Max_Price": "16999",
                                    "Price_Diff": "2000"
                                },
                                {
                                    "Model": "85C645",
                                    "Min_Price": "2500",
                                    "Max_Price": "4499",
                                    "Price_Diff": "1999"
                                },
                                {
                                    "Model": "50P79B",
                                    "Min_Price": "1249",
                                    "Max_Price": "3196",
                                    "Price_Diff": "1947"
                                },
                                {
                                    "Model": "65C645",
                                    "Min_Price": "1609",
                                    "Max_Price": "3474",
                                    "Price_Diff": "1865"
                                },
                                {
                                    "Model": "50C655",
                                    "Min_Price": "1349",
                                    "Max_Price": "3198",
                                    "Price_Diff": "1849"
                                },
                                {
                                    "Model": "65P637",
                                    "Min_Price": "1699",
                                    "Max_Price": "3496",
                                    "Price_Diff": "1797"
                                },
                                {
                                    "Model": "55V6B",
                                    "Min_Price": "159",
                                    "Max_Price": "1899",
                                    "Price_Diff": "1740"
                                },
                                {
                                    "Model": "85P745",
                                    "Min_Price": "2799",
                                    "Max_Price": "4499",
                                    "Price_Diff": "1700"
                                },
                                {
                                    "Model": "50P755",
                                    "Min_Price": "1349",
                                    "Max_Price": "2998",
                                    "Price_Diff": "1649"
                                },
                                {
                                    "Model": "50T635",
                                    "Min_Price": "990",
                                    "Max_Price": "2598",
                                    "Price_Diff": "1608"
                                },
                                {
                                    "Model": "65P755",
                                    "Min_Price": "1699",
                                    "Max_Price": "2999",
                                    "Price_Diff": "1300"
                                },
                                {
                                    "Model": "43S5400",
                                    "Min_Price": "989",
                                    "Max_Price": "2199",
                                    "Price_Diff": "1210"
                                },
                                {
                                    "Model": "75P735",
                                    "Min_Price": "2029",
                                    "Max_Price": "3199",
                                    "Price_Diff": "1170"
                                },
                                {
                                    "Model": "75P635",
                                    "Min_Price": "1667",
                                    "Max_Price": "2799",
                                    "Price_Diff": "1132"
                                },
                                {
                                    "Model": "75C735",
                                    "Min_Price": "1500",
                                    "Max_Price": "2499",
                                    "Price_Diff": "999"
                                },
                                {
                                    "Model": "32S5400",
                                    "Min_Price": "649",
                                    "Max_Price": "1598",
                                    "Price_Diff": "949"
                                },
                                {
                                    "Model": "65P635",
                                    "Min_Price": "1269",
                                    "Max_Price": "2099",
                                    "Price_Diff": "830"
                                },
                                {
                                    "Model": "65C655 Pro",
                                    "Min_Price": "2099",
                                    "Max_Price": "2899",
                                    "Price_Diff": "800"
                                },
                                {
                                    "Model": "75P71B",
                                    "Min_Price": "2498",
                                    "Max_Price": "3200",
                                    "Price_Diff": "702"
                                },
                                {
                                    "Model": "55C845",
                                    "Min_Price": "3299",
                                    "Max_Price": "3999",
                                    "Price_Diff": "700"
                                },
                                {
                                    "Model": "50P635",
                                    "Min_Price": "763",
                                    "Max_Price": "1399",
                                    "Price_Diff": "636"
                                },
                                {
                                    "Model": "75T8B",
                                    "Min_Price": "3966",
                                    "Max_Price": "4599",
                                    "Price_Diff": "633"
                                },
                                {
                                    "Model": "55P635",
                                    "Min_Price": "923",
                                    "Max_Price": "1555",
                                    "Price_Diff": "632"
                                },
                                {
                                    "Model": "55P755",
                                    "Min_Price": "1495",
                                    "Max_Price": "2099",
                                    "Price_Diff": "604"
                                },
                                {
                                    "Model": "65P735",
                                    "Min_Price": "1499",
                                    "Max_Price": "2099",
                                    "Price_Diff": "600"
                                },
                                {
                                    "Model": "55P637",
                                    "Min_Price": "1150",
                                    "Max_Price": "1748",
                                    "Price_Diff": "598"
                                },
                                {
                                    "Model": "50V6B",
                                    "Min_Price": "1148",
                                    "Max_Price": "1699",
                                    "Price_Diff": "551"
                                },
                                {
                                    "Model": "85C655 Pro",
                                    "Min_Price": "4859",
                                    "Max_Price": "5399",
                                    "Price_Diff": "540"
                                },
                                {
                                    "Model": "50P735",
                                    "Min_Price": "909",
                                    "Max_Price": "1449",
                                    "Price_Diff": "540"
                                },
                                {
                                    "Model": "55T8B",
                                    "Min_Price": "2099",
                                    "Max_Price": "2599",
                                    "Price_Diff": "500"
                                },
                                {
                                    "Model": "75C655 Pro",
                                    "Min_Price": "3499",
                                    "Max_Price": "3999",
                                    "Price_Diff": "500"
                                },
                                {
                                    "Model": "55P61B",
                                    "Min_Price": "1249",
                                    "Max_Price": "1699",
                                    "Price_Diff": "450"
                                },
                                {
                                    "Model": "55T635",
                                    "Min_Price": "1050",
                                    "Max_Price": "1499",
                                    "Price_Diff": "449"
                                },
                                {
                                    "Model": "55C655 Pro",
                                    "Min_Price": "1799",
                                    "Max_Price": "2199",
                                    "Price_Diff": "400"
                                },
                                {
                                    "Model": "65T635",
                                    "Min_Price": "1520",
                                    "Max_Price": "1899",
                                    "Price_Diff": "379"
                                },
                                {
                                    "Model": "75C845",
                                    "Min_Price": "3864",
                                    "Max_Price": "4225",
                                    "Price_Diff": "361"
                                },
                                {
                                    "Model": "55C635",
                                    "Min_Price": "999",
                                    "Max_Price": "1348",
                                    "Price_Diff": "349"
                                }
                            ]
                        },
                        "text/html": [
                            "<table>",
                            "<tr><th>Model</th><th>Min_Price</th><th>Max_Price</th><th>Price_Diff</th></tr>",
                            "<tr><td>115X955 Max</td><td>3599</td><td>99999</td><td>96400</td></tr>",
                            "<tr><td>98P745</td><td>1599</td><td>25998</td><td>24399</td></tr>",
                            "<tr><td>55P69B</td><td>1334</td><td>23984</td><td>22650</td></tr>",
                            "<tr><td>65T8B</td><td>1999</td><td>21989</td><td>19990</td></tr>",
                            "<tr><td>58V6B</td><td>1399</td><td>13592</td><td>12193</td></tr>",
                            "<tr><td>65C655</td><td>1598</td><td>12999</td><td>11401</td></tr>",
                            "<tr><td>75P69B</td><td>1399</td><td>10792</td><td>9393</td></tr>",
                            "<tr><td>55P79B</td><td>1399</td><td>10194</td><td>8795</td></tr>",
                            "<tr><td>98C655</td><td>7599</td><td>15998</td><td>8399</td></tr>",
                            "<tr><td>85C655</td><td>2299</td><td>9998</td><td>7699</td></tr>",
                            "<tr><td>75C655</td><td>3099</td><td>10797</td><td>7698</td></tr>",
                            "<tr><td>55P735</td><td>1096</td><td>7995</td><td>6899</td></tr>",
                            "<tr><td>65P69B</td><td>1210</td><td>7996</td><td>6786</td></tr>",
                            "<tr><td>65P71B</td><td>1599</td><td>8245</td><td>6646</td></tr>",
                            "<tr><td>85V6B</td><td>1449</td><td>7998</td><td>6549</td></tr>",
                            "<tr><td>98C735</td><td>6999</td><td>12999</td><td>6000</td></tr>",
                            "<tr><td>65C845</td><td>1</td><td>5869</td><td>5868</td></tr>",
                            "<tr><td>50P61B</td><td>1199</td><td>6995</td><td>5796</td></tr>",
                            "<tr><td>65C755</td><td>2099</td><td>7798</td><td>5699</td></tr>",
                            "<tr><td>50C755</td><td>2159</td><td>7599</td><td>5440</td></tr>",
                            "<tr><td>75C745</td><td>2991</td><td>7595</td><td>4604</td></tr>",
                            "<tr><td>65P79B</td><td>1699</td><td>6297</td><td>4598</td></tr>",
                            "<tr><td>65C745</td><td>1800</td><td>5998</td><td>4198</td></tr>",
                            "<tr><td>75C755</td><td>2599</td><td>6499</td><td>3900</td></tr>",
                            "<tr><td>85C755</td><td>3899</td><td>7799</td><td>3900</td></tr>",
                            "<tr><td>75V6B</td><td>1699</td><td>5398</td><td>3699</td></tr>",
                            "<tr><td>55C745</td><td>1199</td><td>4598</td><td>3399</td></tr>",
                            "<tr><td>75P755</td><td>2294</td><td>5598</td><td>3304</td></tr>",
                            "<tr><td>75P79B</td><td>2499</td><td>5798</td><td>3299</td></tr>",
                            "<tr><td>55C655</td><td>1499</td><td>4198</td><td>2699</td></tr>",
                            "<tr><td>75C645</td><td>2193</td><td>4799</td><td>2606</td></tr>",
                            "<tr><td>70P635</td><td>1999</td><td>4598</td><td>2599</td></tr>",
                            "<tr><td>55C755</td><td>1799</td><td>4199</td><td>2400</td></tr>",
                            "<tr><td>65V6B</td><td>1484</td><td>3798</td><td>2314</td></tr>",
                            "<tr><td>55C645</td><td>1299</td><td>3599</td><td>2300</td></tr>",
                            "<tr><td>98C755</td><td>14999</td><td>16999</td><td>2000</td></tr>",
                            "<tr><td>85C645</td><td>2500</td><td>4499</td><td>1999</td></tr>",
                            "<tr><td>50P79B</td><td>1249</td><td>3196</td><td>1947</td></tr>",
                            "<tr><td>65C645</td><td>1609</td><td>3474</td><td>1865</td></tr>",
                            "<tr><td>50C655</td><td>1349</td><td>3198</td><td>1849</td></tr>",
                            "<tr><td>65P637</td><td>1699</td><td>3496</td><td>1797</td></tr>",
                            "<tr><td>55V6B</td><td>159</td><td>1899</td><td>1740</td></tr>",
                            "<tr><td>85P745</td><td>2799</td><td>4499</td><td>1700</td></tr>",
                            "<tr><td>50P755</td><td>1349</td><td>2998</td><td>1649</td></tr>",
                            "<tr><td>50T635</td><td>990</td><td>2598</td><td>1608</td></tr>",
                            "<tr><td>65P755</td><td>1699</td><td>2999</td><td>1300</td></tr>",
                            "<tr><td>43S5400</td><td>989</td><td>2199</td><td>1210</td></tr>",
                            "<tr><td>75P735</td><td>2029</td><td>3199</td><td>1170</td></tr>",
                            "<tr><td>75P635</td><td>1667</td><td>2799</td><td>1132</td></tr>",
                            "<tr><td>75C735</td><td>1500</td><td>2499</td><td>999</td></tr>",
                            "<tr><td>32S5400</td><td>649</td><td>1598</td><td>949</td></tr>",
                            "<tr><td>65P635</td><td>1269</td><td>2099</td><td>830</td></tr>",
                            "<tr><td>65C655 Pro</td><td>2099</td><td>2899</td><td>800</td></tr>",
                            "<tr><td>75P71B</td><td>2498</td><td>3200</td><td>702</td></tr>",
                            "<tr><td>55C845</td><td>3299</td><td>3999</td><td>700</td></tr>",
                            "<tr><td>50P635</td><td>763</td><td>1399</td><td>636</td></tr>",
                            "<tr><td>75T8B</td><td>3966</td><td>4599</td><td>633</td></tr>",
                            "<tr><td>55P635</td><td>923</td><td>1555</td><td>632</td></tr>",
                            "<tr><td>55P755</td><td>1495</td><td>2099</td><td>604</td></tr>",
                            "<tr><td>65P735</td><td>1499</td><td>2099</td><td>600</td></tr>",
                            "<tr><td>55P637</td><td>1150</td><td>1748</td><td>598</td></tr>",
                            "<tr><td>50V6B</td><td>1148</td><td>1699</td><td>551</td></tr>",
                            "<tr><td>85C655 Pro</td><td>4859</td><td>5399</td><td>540</td></tr>",
                            "<tr><td>50P735</td><td>909</td><td>1449</td><td>540</td></tr>",
                            "<tr><td>55T8B</td><td>2099</td><td>2599</td><td>500</td></tr>",
                            "<tr><td>75C655 Pro</td><td>3499</td><td>3999</td><td>500</td></tr>",
                            "<tr><td>55P61B</td><td>1249</td><td>1699</td><td>450</td></tr>",
                            "<tr><td>55T635</td><td>1050</td><td>1499</td><td>449</td></tr>",
                            "<tr><td>55C655 Pro</td><td>1799</td><td>2199</td><td>400</td></tr>",
                            "<tr><td>65T635</td><td>1520</td><td>1899</td><td>379</td></tr>",
                            "<tr><td>75C845</td><td>3864</td><td>4225</td><td>361</td></tr>",
                            "<tr><td>55C635</td><td>999</td><td>1348</td><td>349</td></tr>",
                            "</table>"
                        ]
                    }
                }
            ],
            "execution_count": 10
        },
        {
            "cell_type": "code",
            "source": [
                "-- Regional/Department Breakdown\r\n",
                "SELECT\r\n",
                "  Department,\r\n",
                "  SUM(Quantity) AS Units_Sold,\r\n",
                "  SUM(Revenue) AS Revenue\r\n",
                "FROM Sellout_Q4\r\n",
                "GROUP BY Department\r\n",
                "ORDER BY Revenue DESC;"
            ],
            "metadata": {
                "language": "sql",
                "azdata_cell_guid": "5eedd918-7453-494c-857b-d372a5322fea"
            },
            "outputs": [
                {
                    "output_type": "display_data",
                    "data": {
                        "text/html": "(4 rows affected)"
                    },
                    "metadata": {}
                },
                {
                    "output_type": "display_data",
                    "data": {
                        "text/html": "Total execution time: 00:00:00.117"
                    },
                    "metadata": {}
                },
                {
                    "output_type": "execute_result",
                    "metadata": {},
                    "execution_count": 11,
                    "data": {
                        "application/vnd.dataresource+json": {
                            "schema": {
                                "fields": [
                                    {
                                        "name": "Department"
                                    },
                                    {
                                        "name": "Units_Sold"
                                    },
                                    {
                                        "name": "Revenue"
                                    }
                                ]
                            },
                            "data": [
                                {
                                    "Department": "Central",
                                    "Units_Sold": "6531",
                                    "Revenue": "19381292"
                                },
                                {
                                    "Department": "West",
                                    "Units_Sold": "7077",
                                    "Revenue": "18859826"
                                },
                                {
                                    "Department": "East",
                                    "Units_Sold": "6595",
                                    "Revenue": "16776310"
                                },
                                {
                                    "Department": "South",
                                    "Units_Sold": "3774",
                                    "Revenue": "8695222"
                                }
                            ]
                        },
                        "text/html": [
                            "<table>",
                            "<tr><th>Department</th><th>Units_Sold</th><th>Revenue</th></tr>",
                            "<tr><td>Central</td><td>6531</td><td>19381292</td></tr>",
                            "<tr><td>West</td><td>7077</td><td>18859826</td></tr>",
                            "<tr><td>East</td><td>6595</td><td>16776310</td></tr>",
                            "<tr><td>South</td><td>3774</td><td>8695222</td></tr>",
                            "</table>"
                        ]
                    }
                }
            ],
            "execution_count": 11
        }
    ]
}